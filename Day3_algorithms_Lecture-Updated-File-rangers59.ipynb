{
 "cells": [
  {
   "cell_type": "markdown",
   "metadata": {},
   "source": [
    "# Algorithms, Binary Search & Linked Lists"
   ]
  },
  {
   "cell_type": "markdown",
   "metadata": {},
   "source": [
    "## Tasks Today:\n",
    " \n",
    "1) <b>In-Place Algorithms</b> <br>\n",
    " &nbsp;&nbsp;&nbsp;&nbsp; a) Syntax <br>\n",
    " &nbsp;&nbsp;&nbsp;&nbsp; a) Out of Place Algorithm <br>\n",
    " &nbsp;&nbsp;&nbsp;&nbsp; b) In-Class Exercise #1 <br>\n",
    "2) <b>Two Pointers</b> <br>\n",
    "3) <b>Linked Lists</b> <br>\n",
    "4) <b>Merge Sort</b> <br>\n",
    " &nbsp;&nbsp;&nbsp;&nbsp; a) Video on Algorithms <br>\n",
    " &nbsp;&nbsp;&nbsp;&nbsp; b) How it Works <br>\n",
    "5) <b>Exercises</b> <br>\n",
    " &nbsp;&nbsp;&nbsp;&nbsp; a) Exercise #1 - Reverse a List in Place Using an In-Place Algorithm <br>\n",
    " &nbsp;&nbsp;&nbsp;&nbsp; b) Exercise #2 - Find Distinct Words <br>\n",
    " &nbsp;&nbsp;&nbsp;&nbsp; c) Exercise #3 - Write a program to implement a Linear Search Algorithm. <br>"
   ]
  },
  {
   "cell_type": "markdown",
   "metadata": {},
   "source": [
    "## In-Place Algorithms"
   ]
  },
  {
   "cell_type": "markdown",
   "metadata": {},
   "source": [
    "#### Syntax"
   ]
  },
  {
   "cell_type": "code",
   "execution_count": 2,
   "metadata": {},
   "outputs": [
    {
     "data": {
      "text/plain": [
       "[20, 10, 4]"
      ]
     },
     "execution_count": 2,
     "metadata": {},
     "output_type": "execute_result"
    }
   ],
   "source": [
    "def swap(aList, x, y, z):\n",
    "    aList[x], aList[y], aList[z] = aList[z], aList[y], aList[x]\n",
    "    return aList\n",
    "myList = [20,4,10]\n",
    "swap(myList, 2,0,1)"
   ]
  },
  {
   "cell_type": "markdown",
   "metadata": {},
   "source": [
    "#### Out of Place Algorithm"
   ]
  },
  {
   "cell_type": "code",
   "execution_count": 8,
   "metadata": {},
   "outputs": [
    {
     "name": "stdout",
     "output_type": "stream",
     "text": [
      "[4, 10, 20]\n",
      "['a', 'b', 'c', 'd']\n",
      "['d', 'c', 'b', 'a']\n"
     ]
    }
   ],
   "source": [
    "myListCopy = myList[::-1]\n",
    "print(myListCopy)\n",
    "\n",
    "array = [\"a\", \"b\", \"c\", \"d\"]\n",
    "newArray = [\"a\"] * len(array)\n",
    "print(array)\n",
    "\n",
    "length = len(array)\n",
    "\n",
    "for i in range(length):\n",
    "    newArray[i] = array[length-1]\n",
    "    length -= 1\n",
    "print(newArray)"
   ]
  },
  {
   "cell_type": "markdown",
   "metadata": {},
   "source": [
    "#### In-Class Exercise #1 <br>\n",
    "<p>Write a function that takes in four arguments (list, index1, index2, index3), and swaps those three positions in the list passed in.</p>"
   ]
  },
  {
   "cell_type": "code",
   "execution_count": 10,
   "metadata": {},
   "outputs": [
    {
     "data": {
      "text/plain": [
       "[10, 3, 4, 8, 4, 2, 6]"
      ]
     },
     "execution_count": 10,
     "metadata": {},
     "output_type": "execute_result"
    }
   ],
   "source": [
    "l_1 = [10, 4, 3, 8, 4, 2, 6]\n",
    "def swap(aList, x, y, z):\n",
    "    aList[x], aList[y], aList[z] = aList[z], aList[y], aList[x]\n",
    "    return aList\n",
    "swap(l_1, 2,0,1)\n"
   ]
  },
  {
   "cell_type": "markdown",
   "metadata": {},
   "source": [
    "## Two Pointers"
   ]
  },
  {
   "cell_type": "markdown",
   "metadata": {},
   "source": [
    "#### Syntax"
   ]
  },
  {
   "cell_type": "code",
   "execution_count": 1,
   "metadata": {},
   "outputs": [
    {
     "data": {
      "text/plain": [
       "[22, 11, 4, 8, 9, 12, 3, 2, 1]"
      ]
     },
     "execution_count": 1,
     "metadata": {},
     "output_type": "execute_result"
    }
   ],
   "source": [
    "def twoPointers(aList):\n",
    "    left = 0\n",
    "    right = len(aList)-1\n",
    "    while left < right:\n",
    "        aList[left], aList[right] = aList[right], aList[left]\n",
    "        left+=1\n",
    "        right-=1\n",
    "    return aList\n",
    "myList = [1,2,3,12,9,8,4,11,22]\n",
    "twoPointers(myList)"
   ]
  },
  {
   "cell_type": "markdown",
   "metadata": {},
   "source": [
    "#### Video of Algorithms <br>\n",
    "<p>Watch the video about algorithms.</p>\n",
    "\n",
    "https://www.youtube.com/watch?v=Q9HjeFD62Uk\n",
    "\n",
    "https://www.youtube.com/watch?v=kPRA0W1kECg\n",
    "\n",
    "https://www.youtube.com/watch?v=ZZuD6iUe3Pc"
   ]
  },
  {
   "cell_type": "markdown",
   "metadata": {},
   "source": [
    "# Sorting Algorithms"
   ]
  },
  {
   "cell_type": "markdown",
   "metadata": {},
   "source": [
    "#### Bubble Sort\n",
    "\n",
    "Worst Case: O(n^2) Time - O(1) Space"
   ]
  },
  {
   "cell_type": "code",
   "execution_count": 4,
   "metadata": {},
   "outputs": [
    {
     "data": {
      "text/plain": [
       "[0, 4, 9, 15, 22, 33, 56, 100]"
      ]
     },
     "execution_count": 4,
     "metadata": {},
     "output_type": "execute_result"
    }
   ],
   "source": [
    "def swap(i,j,array):\n",
    "    array[i], array[j] = array[j], array[i]\n",
    "def bubbleSort(array):\n",
    "    isSorted = False\n",
    "    while not isSorted:\n",
    "        isSorted = True\n",
    "        for num in range(len(array)-1):\n",
    "            if array[num] > array[num+1]:\n",
    "                swap(num, num+1, array)\n",
    "                isSorted = False\n",
    "    return array\n",
    "bubbleSort([22,15,4,9,33,0,56,100])"
   ]
  },
  {
   "cell_type": "markdown",
   "metadata": {},
   "source": [
    "##### Insertion Sort\n",
    "\n",
    "Worst Case: O(n^2) time - O(1)space"
   ]
  },
  {
   "cell_type": "code",
   "execution_count": 3,
   "metadata": {},
   "outputs": [
    {
     "data": {
      "text/plain": [
       "[0, 4, 9, 15, 22, 33, 56, 100]"
      ]
     },
     "execution_count": 3,
     "metadata": {},
     "output_type": "execute_result"
    }
   ],
   "source": [
    "def swap(i,j,array):\n",
    "    array[i], array[j] = array[j], array[i]\n",
    "def insertionSort(array):\n",
    "    for i in range(1, len(array)):\n",
    "        j = i\n",
    "        while j > 0 and array[j] < array[j-1]:\n",
    "            swap(j,j-1,array)\n",
    "            j-=1\n",
    "    return array\n",
    "insertionSort([22,15,4,9,33,0,56,100])"
   ]
  },
  {
   "cell_type": "markdown",
   "metadata": {},
   "source": [
    "## Merge Sort"
   ]
  },
  {
   "cell_type": "markdown",
   "metadata": {},
   "source": [
    "#### How it Works"
   ]
  },
  {
   "cell_type": "code",
   "execution_count": 12,
   "metadata": {},
   "outputs": [
    {
     "name": "stdout",
     "output_type": "stream",
     "text": [
      "Splitting... [54, 11, 24, 35, 20, 26, 0, 32, 85, 24, 98, 50, 37, 23, 68, 48, 56, 20, 7, 27]\n",
      "Splitting... [54, 11, 24, 35, 20, 26, 0, 32, 85, 24]\n",
      "Splitting... [54, 11, 24, 35, 20]\n",
      "Splitting... [54, 11]\n",
      "Splitting... [54]\n",
      "Merging... [54]\n",
      "Splitting... [11]\n",
      "Merging... [11]\n",
      "Merging... [11, 54]\n",
      "Splitting... [24, 35, 20]\n",
      "Splitting... [24]\n",
      "Merging... [24]\n",
      "Splitting... [35, 20]\n",
      "Splitting... [35]\n",
      "Merging... [35]\n",
      "Splitting... [20]\n",
      "Merging... [20]\n",
      "Merging... [20, 35]\n",
      "Merging... [20, 24, 35]\n",
      "Merging... [11, 20, 24, 35, 54]\n",
      "Splitting... [26, 0, 32, 85, 24]\n",
      "Splitting... [26, 0]\n",
      "Splitting... [26]\n",
      "Merging... [26]\n",
      "Splitting... [0]\n",
      "Merging... [0]\n",
      "Merging... [0, 26]\n",
      "Splitting... [32, 85, 24]\n",
      "Splitting... [32]\n",
      "Merging... [32]\n",
      "Splitting... [85, 24]\n",
      "Splitting... [85]\n",
      "Merging... [85]\n",
      "Splitting... [24]\n",
      "Merging... [24]\n",
      "Merging... [24, 85]\n",
      "Merging... [24, 32, 85]\n",
      "Merging... [0, 24, 26, 32, 85]\n",
      "Merging... [0, 11, 20, 24, 24, 26, 32, 35, 54, 85]\n",
      "Splitting... [98, 50, 37, 23, 68, 48, 56, 20, 7, 27]\n",
      "Splitting... [98, 50, 37, 23, 68]\n",
      "Splitting... [98, 50]\n",
      "Splitting... [98]\n",
      "Merging... [98]\n",
      "Splitting... [50]\n",
      "Merging... [50]\n",
      "Merging... [50, 98]\n",
      "Splitting... [37, 23, 68]\n",
      "Splitting... [37]\n",
      "Merging... [37]\n",
      "Splitting... [23, 68]\n",
      "Splitting... [23]\n",
      "Merging... [23]\n",
      "Splitting... [68]\n",
      "Merging... [68]\n",
      "Merging... [23, 68]\n",
      "Merging... [23, 37, 68]\n",
      "Merging... [23, 37, 50, 68, 98]\n",
      "Splitting... [48, 56, 20, 7, 27]\n",
      "Splitting... [48, 56]\n",
      "Splitting... [48]\n",
      "Merging... [48]\n",
      "Splitting... [56]\n",
      "Merging... [56]\n",
      "Merging... [48, 56]\n",
      "Splitting... [20, 7, 27]\n",
      "Splitting... [20]\n",
      "Merging... [20]\n",
      "Splitting... [7, 27]\n",
      "Splitting... [7]\n",
      "Merging... [7]\n",
      "Splitting... [27]\n",
      "Merging... [27]\n",
      "Merging... [7, 27]\n",
      "Merging... [7, 20, 27]\n",
      "Merging... [7, 20, 27, 48, 56]\n",
      "Merging... [7, 20, 23, 27, 37, 48, 50, 56, 68, 98]\n",
      "Merging... [0, 7, 11, 20, 20, 23, 24, 24, 26, 27, 32, 35, 37, 48, 50, 54, 56, 68, 85, 98]\n"
     ]
    },
    {
     "data": {
      "text/plain": [
       "[0, 7, 11, 20, 20, 23, 24, 24, 26, 27, 32, 35, 37, 48, 50, 54, 56, 68, 85, 98]"
      ]
     },
     "execution_count": 12,
     "metadata": {},
     "output_type": "execute_result"
    }
   ],
   "source": [
    "from random import randint\n",
    "nums = [randint(0,100) for i in range(20)]\n",
    "\n",
    "def mergeSort(aList):\n",
    "    print(\"Splitting...\", aList)\n",
    "#     divide array into equal parts\n",
    "    if len(aList) > 1:\n",
    "        mid = len(aList) // 2\n",
    "        leftHalf = aList[:mid]\n",
    "        rightHalf = aList[mid:]\n",
    "#         recursively call mergesort\n",
    "        mergeSort(leftHalf)\n",
    "        mergeSort(rightHalf)\n",
    "        \n",
    "        i = 0 #pointer for leftHalf\n",
    "        j = 0 #pointer for rightHalf\n",
    "        k = 0 #pointer for array\n",
    "        \n",
    "#         compare left half and right half\n",
    "        while i < len(leftHalf) and j < len(rightHalf):\n",
    "            if leftHalf[i] < rightHalf[j]:\n",
    "                aList[k] = leftHalf[i]\n",
    "                i+=1\n",
    "            else:\n",
    "                aList[k] = rightHalf[j]\n",
    "                j+=1\n",
    "            k+=1\n",
    "#             while merging place items in correct position\n",
    "        while i < len(leftHalf):\n",
    "            aList[k] = leftHalf[i]\n",
    "            i+=1\n",
    "            k+=1\n",
    "        while j < len(rightHalf):\n",
    "            aList[k] = rightHalf[j]\n",
    "            j+=1\n",
    "            k+=1\n",
    "    print(\"Merging...\", aList)\n",
    "    return(aList)\n",
    "mergeSort(nums)"
   ]
  },
  {
   "cell_type": "markdown",
   "metadata": {},
   "source": [
    "# Binary Search\n",
    "\n",
    "The Binary Search algorithm works by finding the number in the middle of a given array and comparing it to the target. Given that the array is sorted\n",
    "\n",
    "* The worst case run time for this algorithm is `O(log(n))`"
   ]
  },
  {
   "cell_type": "code",
   "execution_count": 19,
   "metadata": {},
   "outputs": [
    {
     "data": {
      "text/plain": [
       "'index is 6'"
      ]
     },
     "execution_count": 19,
     "metadata": {},
     "output_type": "execute_result"
    }
   ],
   "source": [
    "def binarySearchHelper(array, target, left, right):\n",
    "    while left <= right:\n",
    "        middle = (left+right)//2\n",
    "        potentialMatch = array[middle]\n",
    "        if target == potentialMatch:\n",
    "            return f\"index is {middle}\"\n",
    "        elif target < potentialMatch:\n",
    "            right = middle-1\n",
    "        else:\n",
    "            left = middle+1\n",
    "    return -1\n",
    "\n",
    "def binarySearch(array, target):\n",
    "    return binarySearchHelper(array, target, 0, len(array)-1)\n",
    "\n",
    "binarySearch([0, 4, 9, 15, 22, 33, 56, 100], 56)"
   ]
  },
  {
   "cell_type": "markdown",
   "metadata": {},
   "source": [
    "# Exercises"
   ]
  },
  {
   "cell_type": "markdown",
   "metadata": {},
   "source": [
    "### Exercise #1 <br>\n",
    "<p>Reverse the list below in-place using an in-place algorithm.<br>For extra credit: Reverse the strings at the same time.</p>"
   ]
  },
  {
   "cell_type": "code",
   "execution_count": 17,
   "metadata": {},
   "outputs": [
    {
     "name": "stdout",
     "output_type": "stream",
     "text": [
      "['.', 'ecnetnes', 'a', 'si', 'siht']\n"
     ]
    }
   ],
   "source": [
    "words = ['this' , 'is', 'a', 'sentence', '.']\n",
    "def reverse(aList):\n",
    "    left = 0\n",
    "    right = len(aList)-1\n",
    "    while left < right:\n",
    "        aList[left] = aList[left][::-1]\n",
    "        aList[right] = aList[right][::-1]\n",
    "        aList[left], aList[right] = aList[right], aList[left]\n",
    "        left+=1\n",
    "        right-=1\n",
    "            \n",
    "reverse(words)\n",
    "print(words)"
   ]
  },
  {
   "cell_type": "markdown",
   "metadata": {},
   "source": [
    "### Exercise #2 <br>\n",
    "<p>Create a function that counts how many distinct words are in the string below, then outputs a dictionary with the words as the key and the value as the amount of times that word appears in the string.<br>Should output:<br>{'a': 5,<br>\n",
    " 'abstract': 1,<br>\n",
    " 'an': 3,<br>\n",
    " 'array': 2, ... etc...</p>"
   ]
  },
  {
   "cell_type": "code",
   "execution_count": 20,
   "metadata": {},
   "outputs": [
    {
     "name": "stdout",
     "output_type": "stream",
     "text": [
      "['In', 'computing,', 'a', 'hash', 'table', 'hash', 'map', 'is', 'a', 'data', 'structure', 'which', 'implements', 'an', 'associative', 'array', 'abstract', 'data', 'type,', 'a', 'structure', 'that', 'can', 'map', 'keys', 'to', 'values.', 'A', 'hash', 'table', 'uses', 'a', 'hash', 'function', 'to', 'compute', 'an', 'index', 'into', 'an', 'array', 'of', 'buckets', 'or', 'slots', 'from', 'which', 'the', 'desired', 'value', 'can', 'be', 'found']\n"
     ]
    }
   ],
   "source": [
    "a_text = 'In computing, a hash table hash map is a data structure which implements an associative array abstract data type, a structure that can map keys to values. A hash table uses a hash function to compute an index into an array of buckets or slots from which the desired value can be found'\n",
    "myList = a_text.split(\" \")\n",
    "print(myList)\n",
    "def distinctCount(aList):\n",
    "    "
   ]
  },
  {
   "cell_type": "markdown",
   "metadata": {},
   "source": [
    "## Exercise #3\n",
    "\n",
    "Write a program to implement a Linear Search Algorithm. Also in a comment, write the Time Complexity of the following algorithm.\n",
    "\n",
    "#### Hint: Linear Searching will require searching a list for a given number. "
   ]
  },
  {
   "cell_type": "code",
   "execution_count": 43,
   "metadata": {},
   "outputs": [
    {
     "name": "stdout",
     "output_type": "stream",
     "text": [
      "found\n"
     ]
    }
   ],
   "source": [
    "#The time complexity of a linear search algorithm is O(n)\n",
    "\n",
    "def linearSearch(aList, num):\n",
    "    for i in range(len(aList)):\n",
    "        if aList[i] == num:\n",
    "            result = \"found\"\n",
    "        else: \n",
    "            result = \"not found\"\n",
    "    print(result)\n",
    "            \n",
    "aList = [1,2,3,4,5]\n",
    "num = 5\n",
    "linearSearch(aList, num)"
   ]
  },
  {
   "cell_type": "code",
   "execution_count": null,
   "metadata": {},
   "outputs": [],
   "source": []
  }
 ],
 "metadata": {
  "kernelspec": {
   "display_name": "Python 3",
   "language": "python",
   "name": "python3"
  },
  "language_info": {
   "codemirror_mode": {
    "name": "ipython",
    "version": 3
   },
   "file_extension": ".py",
   "mimetype": "text/x-python",
   "name": "python",
   "nbconvert_exporter": "python",
   "pygments_lexer": "ipython3",
   "version": "3.8.8"
  }
 },
 "nbformat": 4,
 "nbformat_minor": 2
}
